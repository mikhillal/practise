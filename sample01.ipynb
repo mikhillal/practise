{
 "cells": [
  {
   "cell_type": "code",
   "execution_count": 1,
   "id": "1adec080",
   "metadata": {},
   "outputs": [
    {
     "name": "stdout",
     "output_type": "stream",
     "text": [
      "Sorted list using bubble sort: [11, 12, 22, 25, 34, 64, 90]\n"
     ]
    }
   ],
   "source": [
    "def bubble_sort(numbers):\n",
    "    n = len(numbers)\n",
    "    for i in range(n):\n",
    "        for j in range(0, n - i - 1):\n",
    "            if numbers[j] > numbers[j + 1]:\n",
    "                numbers[j], numbers[j + 1] = numbers[j + 1], numbers[j]\n",
    "    return numbers\n",
    "\n",
    "numbers = [64, 34, 25, 12, 22, 11, 90]\n",
    "print(\"Sorted list using bubble sort:\", bubble_sort(numbers))\n"
   ]
  }
 ],
 "metadata": {
  "kernelspec": {
   "display_name": "Python 3 (ipykernel)",
   "language": "python",
   "name": "python3"
  },
  "language_info": {
   "codemirror_mode": {
    "name": "ipython",
    "version": 3
   },
   "file_extension": ".py",
   "mimetype": "text/x-python",
   "name": "python",
   "nbconvert_exporter": "python",
   "pygments_lexer": "ipython3",
   "version": "3.9.13"
  }
 },
 "nbformat": 4,
 "nbformat_minor": 5
}
